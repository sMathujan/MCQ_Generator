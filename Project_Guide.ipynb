{
 "cells": [
  {
   "cell_type": "markdown",
   "metadata": {},
   "source": [
    "# MCQ Generator using OpenAI & LangChain"
   ]
  },
  {
   "cell_type": "markdown",
   "metadata": {},
   "source": [
    "- Setup the development environment.\n",
    "- Experiment with jupyter notebook.\n",
    "- Convert the jupyter notebook into modular coding.\n",
    "- Create the streamlit web API.\n",
    "- Deployment of the project."
   ]
  },
  {
   "cell_type": "markdown",
   "metadata": {},
   "source": [
    "### 1. Initialize the Git and connet with GitHub repo.\n",
    "\n",
    "### 2. Create and Activate the conda environment.\n",
    "\n"
   ]
  },
  {
   "cell_type": "markdown",
   "metadata": {},
   "source": []
  }
 ],
 "metadata": {
  "language_info": {
   "name": "python"
  }
 },
 "nbformat": 4,
 "nbformat_minor": 2
}
